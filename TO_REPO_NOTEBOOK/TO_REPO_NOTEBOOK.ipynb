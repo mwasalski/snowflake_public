{
 "metadata": {
  "kernelspec": {
   "display_name": "Streamlit Notebook",
   "name": "streamlit"
  },
  "lastEditStatus": {
   "notebookId": "ktx2v3tfjuucfytwent5",
   "authorId": "3354423487575",
   "authorName": "MWASALSKI",
   "authorEmail": "m.wasalski@gmail.com",
   "sessionId": "98ca05fd-5c05-479c-ad07-69f96a88fa44",
   "lastEditTime": 1746816486851
  }
 },
 "nbformat_minor": 5,
 "nbformat": 4,
 "cells": [
  {
   "cell_type": "code",
   "id": "2400e2b5-f458-4381-a176-2c106cb4e395",
   "metadata": {
    "language": "python",
    "name": "cell1"
   },
   "outputs": [],
   "source": "",
   "execution_count": null
  }
 ]
}