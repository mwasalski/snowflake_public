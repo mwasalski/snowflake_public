{
 "metadata": {
  "kernelspec": {
   "display_name": "Streamlit Notebook",
   "name": "streamlit"
  },
  "lastEditStatus": {
   "notebookId": "c5ohvdfxoqtqxlfchzep",
   "authorId": "3354423487575",
   "authorName": "MWASALSKI",
   "authorEmail": "m.wasalski@gmail.com",
   "sessionId": "724ef04d-ed48-4ced-9df6-742dcf450f41",
   "lastEditTime": 1746814624793
  }
 },
 "nbformat_minor": 5,
 "nbformat": 4,
 "cells": [
  {
   "cell_type": "code",
   "id": "2400e2b5-f458-4381-a176-2c106cb4e395",
   "metadata": {
    "language": "python",
    "name": "cell1"
   },
   "outputs": [],
   "source": "%run REPO_NOTEBOOK.ipynb",
   "execution_count": null
  }
 ]
}