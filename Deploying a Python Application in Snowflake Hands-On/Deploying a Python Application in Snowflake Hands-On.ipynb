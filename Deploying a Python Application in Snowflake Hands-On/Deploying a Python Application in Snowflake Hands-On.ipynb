{
 "metadata": {
  "kernelspec": {
   "display_name": "Streamlit Notebook",
   "name": "streamlit"
  },
  "lastEditStatus": {
   "notebookId": "4riccs2bafdmphmeatvi",
   "authorId": "3354423487575",
   "authorName": "MWASALSKI",
   "authorEmail": "m.wasalski@gmail.com",
   "sessionId": "57815cad-8e4a-47f6-90c6-710813cc1cc8",
   "lastEditTime": 1750922253861
  }
 },
 "nbformat_minor": 5,
 "nbformat": 4,
 "cells": [
  {
   "cell_type": "code",
   "id": "cb77d202-bc25-4772-9634-effbb8149dfb",
   "metadata": {
    "language": "sql",
    "name": "cell1"
   },
   "outputs": [],
   "source": "select 1 \n-- 100 wierszy, tylko liczba 1\nfrom table(generator(rowcount => 1000));",
   "execution_count": null
  },
  {
   "cell_type": "code",
   "id": "8416a3b9-339b-4a09-bf53-c173b64b90a5",
   "metadata": {
    "language": "sql",
    "name": "cell2"
   },
   "outputs": [],
   "source": "-- randstr - random string\n-- || - and\nselect randstr(10, random()) || ' ' || randstr(15, random()) as name,\n floor(abs(normal(40, 10, random())))as age\n from table(generator(rowcount => 1000));",
   "execution_count": null
  },
  {
   "cell_type": "code",
   "id": "c41cfe06-73a0-499a-be8b-8188f03f2d3e",
   "metadata": {
    "language": "sql",
    "name": "cell3"
   },
   "outputs": [],
   "source": "-- create database test",
   "execution_count": null
  },
  {
   "cell_type": "code",
   "id": "bf3d3082-8b21-4227-901f-ac90c02530d5",
   "metadata": {
    "language": "sql",
    "name": "cell5",
    "codeCollapsed": false
   },
   "outputs": [],
   "source": "select * from test.public.fake\nsample (100 rows) -- odda randomowe 100 wierszy",
   "execution_count": null
  },
  {
   "cell_type": "code",
   "id": "95e33155-924f-4d0d-841d-8c3c17d73c58",
   "metadata": {
    "language": "sql",
    "name": "cell6",
    "codeCollapsed": false
   },
   "outputs": [],
   "source": "-- synthethic data na bazie istniejacej tabeli\n-- https://docs.snowflake.com/en/sql-reference/stored-procedures/generate_synthetic_datawi",
   "execution_count": null
  },
  {
   "cell_type": "code",
   "id": "c2c7f43b-3714-4e87-91b9-2706e68834b4",
   "metadata": {
    "language": "python",
    "name": "cell10",
    "codeCollapsed": false
   },
   "outputs": [],
   "source": "",
   "execution_count": null
  }
 ]
}