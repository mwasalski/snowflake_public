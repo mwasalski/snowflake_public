{
 "metadata": {
  "kernelspec": {
   "display_name": "Streamlit Notebook",
   "name": "streamlit"
  },
  "lastEditStatus": {
   "notebookId": "4riccs2bafdmphmeatvi",
   "authorId": "3354423487575",
   "authorName": "MWASALSKI",
   "authorEmail": "m.wasalski@gmail.com",
   "sessionId": "57815cad-8e4a-47f6-90c6-710813cc1cc8",
   "lastEditTime": 1750922152138
  }
 },
 "nbformat_minor": 5,
 "nbformat": 4,
 "cells": [
  {
   "cell_type": "code",
   "id": "95e33155-924f-4d0d-841d-8c3c17d73c58",
   "metadata": {
    "language": "sql",
    "name": "cell6",
    "codeCollapsed": false
   },
   "outputs": [],
   "source": "-- synthethic data na bazie istniejacej tabeli\n-- https://docs.snowflake.com/en/sql-reference/stored-procedures/generate_synthetic_datawi",
   "execution_count": null
  },
  {
   "cell_type": "code",
   "id": "c2c7f43b-3714-4e87-91b9-2706e68834b4",
   "metadata": {
    "language": "python",
    "name": "cell10",
    "codeCollapsed": false
   },
   "outputs": [],
   "source": "",
   "execution_count": null
  }
 ]
}